{
 "cells": [
  {
   "cell_type": "code",
   "execution_count": 11,
   "metadata": {},
   "outputs": [],
   "source": [
    "import pandas as pd\n",
    "import numpy as np\n",
    "from sklearn.model_selection import train_test_split\n",
    "from sklearn.ensemble import RandomForestClassifier\n",
    "from sklearn.metrics import accuracy_score, confusion_matrix\n",
    "import pickle  # to save the model\n"
   ]
  },
  {
   "cell_type": "code",
   "execution_count": 34,
   "metadata": {},
   "outputs": [
    {
     "name": "stdout",
     "output_type": "stream",
     "text": [
      "/usr/local/bin/python3\n"
     ]
    }
   ],
   "source": [
    "import sys\n",
    "print(sys.executable)\n"
   ]
  },
  {
   "cell_type": "code",
   "execution_count": 35,
   "metadata": {},
   "outputs": [
    {
     "name": "stdout",
     "output_type": "stream",
     "text": [
      "Requirement already satisfied: scikit-learn==1.5.2 in /Library/Frameworks/Python.framework/Versions/3.11/lib/python3.11/site-packages (1.5.2)\n",
      "Requirement already satisfied: numpy>=1.19.5 in /Library/Frameworks/Python.framework/Versions/3.11/lib/python3.11/site-packages (from scikit-learn==1.5.2) (1.24.3)\n",
      "Requirement already satisfied: scipy>=1.6.0 in /Library/Frameworks/Python.framework/Versions/3.11/lib/python3.11/site-packages (from scikit-learn==1.5.2) (1.13.1)\n",
      "Requirement already satisfied: joblib>=1.2.0 in /Library/Frameworks/Python.framework/Versions/3.11/lib/python3.11/site-packages (from scikit-learn==1.5.2) (1.2.0)\n",
      "Requirement already satisfied: threadpoolctl>=3.1.0 in /Library/Frameworks/Python.framework/Versions/3.11/lib/python3.11/site-packages (from scikit-learn==1.5.2) (3.1.0)\n"
     ]
    }
   ],
   "source": [
    "!pip install --user scikit-learn==1.5.2\n"
   ]
  },
  {
   "cell_type": "code",
   "execution_count": 36,
   "metadata": {},
   "outputs": [
    {
     "name": "stdout",
     "output_type": "stream",
     "text": [
      "Package                      Version\n",
      "---------------------------- ------------\n",
      "absl-py                      2.1.0\n",
      "appnope                      0.1.3\n",
      "asn1crypto                   1.5.1\n",
      "asttokens                    2.2.1\n",
      "astunparse                   1.6.3\n",
      "attrs                        24.2.0\n",
      "Babel                        2.10.3\n",
      "backcall                     0.2.0\n",
      "beautifulsoup4               4.12.3\n",
      "blinker                      1.8.2\n",
      "cachetools                   5.3.3\n",
      "cbor2                        5.4.2\n",
      "certifi                      2024.2.2\n",
      "cffi                         1.17.1\n",
      "chardet                      5.2.0\n",
      "charset-normalizer           3.3.2\n",
      "cicflowmeter                 0.2.0\n",
      "click                        8.1.7\n",
      "comm                         0.1.3\n",
      "contourpy                    1.0.7\n",
      "cryptography                 3.4.8\n",
      "cycler                       0.11.0\n",
      "debugpy                      1.6.7\n",
      "decorator                    5.1.1\n",
      "docopt                       0.6.2\n",
      "docutils                     0.20.1\n",
      "et-xmlfile                   1.1.0\n",
      "executing                    1.2.0\n",
      "filelock                     3.13.3\n",
      "Flask                        3.0.3\n",
      "Flask-Cors                   4.0.1\n",
      "flatbuffers                  24.3.25\n",
      "fonttools                    4.39.4\n",
      "freezegun                    1.2.1\n",
      "fsspec                       2024.3.1\n",
      "gast                         0.4.0\n",
      "geoip2                       2.9.0\n",
      "gevent                       22.10.2\n",
      "google-auth                  2.30.0\n",
      "google-auth-oauthlib         1.0.0\n",
      "google-pasta                 0.2.0\n",
      "greenlet                     3.0.3\n",
      "grpcio                       1.64.0\n",
      "h5py                         3.11.0\n",
      "huggingface-hub              0.22.2\n",
      "idna                         2.10\n",
      "imageio                      2.33.1\n",
      "ipykernel                    6.23.1\n",
      "ipython                      8.13.2\n",
      "isodate                      0.7.2\n",
      "itsdangerous                 2.2.0\n",
      "jedi                         0.18.2\n",
      "Jinja2                       3.1.2\n",
      "joblib                       1.2.0\n",
      "jupyter_client               8.2.0\n",
      "jupyter_core                 5.3.0\n",
      "keras                        3.4.0\n",
      "kiwisolver                   1.4.4\n",
      "lazy_loader                  0.3\n",
      "libclang                     18.1.1\n",
      "libsass                      0.22.0\n",
      "lxml                         4.9.3\n",
      "Markdown                     3.6\n",
      "markdown-it-py               3.0.0\n",
      "MarkupSafe                   2.1.2\n",
      "matplotlib                   3.7.1\n",
      "matplotlib-inline            0.1.6\n",
      "maxminddb                    2.6.2\n",
      "mdurl                        0.1.2\n",
      "ml-dtypes                    0.3.2\n",
      "mpmath                       1.3.0\n",
      "namex                        0.0.8\n",
      "nest-asyncio                 1.5.6\n",
      "networkx                     3.2.1\n",
      "num2words                    0.5.10\n",
      "numpy                        1.24.3\n",
      "oauthlib                     3.2.2\n",
      "ofxparse                     0.21\n",
      "opencv-python                4.8.1.78\n",
      "openpyxl                     3.0.9\n",
      "opt-einsum                   3.3.0\n",
      "option                       2.1.0\n",
      "optree                       0.11.0\n",
      "packaging                    23.1\n",
      "pandas                       2.0.2\n",
      "parso                        0.8.3\n",
      "passlib                      1.7.4\n",
      "pexpect                      4.8.0\n",
      "pickleshare                  0.7.5\n",
      "Pillow                       9.4.0\n",
      "pip                          24.2\n",
      "platformdirs                 3.5.1\n",
      "polib                        1.1.1\n",
      "postgres                     4.0\n",
      "prompt-toolkit               3.0.38\n",
      "protobuf                     4.25.3\n",
      "psutil                       5.9.4\n",
      "psycopg2-binary              2.9.9\n",
      "psycopg2-pool                1.2\n",
      "ptyprocess                   0.7.0\n",
      "pure-eval                    0.2.2\n",
      "pyasn1                       0.6.0\n",
      "pyasn1_modules               0.4.0\n",
      "pycparser                    2.22\n",
      "Pygments                     2.15.1\n",
      "pyOpenSSL                    21.0.0\n",
      "pyparsing                    3.0.9\n",
      "PyPDF2                       2.12.1\n",
      "pypng                        0.20220715.0\n",
      "pyserial                     3.5\n",
      "pyth                         0.6.0\n",
      "python-dateutil              2.8.2\n",
      "python-ldap                  3.4.0\n",
      "python-stdnum                1.19\n",
      "pytz                         2023.3\n",
      "pyusb                        1.2.1\n",
      "PyYAML                       6.0.1\n",
      "pyzmq                        25.1.0\n",
      "qrcode                       7.4.2\n",
      "regex                        2023.12.25\n",
      "reportlab                    3.6.12\n",
      "requests                     2.31.0\n",
      "requests-file                2.1.0\n",
      "requests-oauthlib            2.0.0\n",
      "requests-toolbelt            1.0.0\n",
      "rich                         13.7.1\n",
      "rjsmin                       1.2.0\n",
      "rsa                          4.9\n",
      "safetensors                  0.4.2\n",
      "scapy                        2.5.0\n",
      "scapy-http                   1.8.2\n",
      "scikit-image                 0.22.0\n",
      "scikit-learn                 1.5.2\n",
      "scipy                        1.13.1\n",
      "setuptools                   65.5.0\n",
      "simpy                        4.0.1\n",
      "six                          1.16.0\n",
      "soupsieve                    2.6\n",
      "stack-data                   0.6.2\n",
      "sympy                        1.11.1\n",
      "tabulate                     0.9.0\n",
      "tensorboard                  2.16.2\n",
      "tensorboard-data-server      0.7.2\n",
      "tensorflow                   2.16.1\n",
      "tensorflow-estimator         2.13.0\n",
      "tensorflow-io-gcs-filesystem 0.37.0\n",
      "tensorflow-macos             2.13.0\n",
      "termcolor                    2.4.0\n",
      "threadpoolctl                3.1.0\n",
      "tifffile                     2023.12.9\n",
      "tokenizers                   0.13.3\n",
      "torch                        2.3.1\n",
      "tornado                      6.3.2\n",
      "tqdm                         4.66.2\n",
      "traitlets                    5.9.0\n",
      "transformers                 4.28.1\n",
      "typing_extensions            4.4.0\n",
      "tzdata                       2023.3\n",
      "urllib3                      1.26.5\n",
      "vobject                      0.9.6.1\n",
      "wcwidth                      0.2.6\n",
      "Werkzeug                     2.2.2\n",
      "wheel                        0.43.0\n",
      "wrapt                        1.16.0\n",
      "xlrd                         1.2.0\n",
      "XlsxWriter                   3.0.2\n",
      "xlwt                         1.3.0\n",
      "zeep                         4.2.1\n",
      "zope.event                   5.0\n",
      "zope.interface               7.1.0\n"
     ]
    }
   ],
   "source": [
    "!pip list\n"
   ]
  },
  {
   "cell_type": "code",
   "execution_count": 37,
   "metadata": {},
   "outputs": [
    {
     "name": "stdout",
     "output_type": "stream",
     "text": [
      "zsh:1: command not found: conda\n"
     ]
    }
   ],
   "source": [
    "!conda install scikit-learn=1.5.2\n"
   ]
  },
  {
   "cell_type": "code",
   "execution_count": 38,
   "metadata": {},
   "outputs": [
    {
     "name": "stdout",
     "output_type": "stream",
     "text": [
      "/Library/Frameworks/Python.framework/Versions/3.11/lib/python3.11/site-packages/sklearn/__init__.py\n"
     ]
    }
   ],
   "source": [
    "import sklearn\n",
    "print(sklearn.__file__)\n"
   ]
  },
  {
   "cell_type": "code",
   "execution_count": 39,
   "metadata": {},
   "outputs": [
    {
     "name": "stdout",
     "output_type": "stream",
     "text": [
      "Files removed: 1435\n"
     ]
    }
   ],
   "source": [
    "!pip cache purge\n"
   ]
  },
  {
   "cell_type": "code",
   "execution_count": 40,
   "metadata": {},
   "outputs": [
    {
     "name": "stdout",
     "output_type": "stream",
     "text": [
      "Requirement already satisfied: scikit-learn==1.5.2 in /Library/Frameworks/Python.framework/Versions/3.11/lib/python3.11/site-packages (1.5.2)\n",
      "Requirement already satisfied: numpy>=1.19.5 in /Library/Frameworks/Python.framework/Versions/3.11/lib/python3.11/site-packages (from scikit-learn==1.5.2) (1.24.3)\n",
      "Requirement already satisfied: scipy>=1.6.0 in /Library/Frameworks/Python.framework/Versions/3.11/lib/python3.11/site-packages (from scikit-learn==1.5.2) (1.13.1)\n",
      "Requirement already satisfied: joblib>=1.2.0 in /Library/Frameworks/Python.framework/Versions/3.11/lib/python3.11/site-packages (from scikit-learn==1.5.2) (1.2.0)\n",
      "Requirement already satisfied: threadpoolctl>=3.1.0 in /Library/Frameworks/Python.framework/Versions/3.11/lib/python3.11/site-packages (from scikit-learn==1.5.2) (3.1.0)\n"
     ]
    }
   ],
   "source": [
    "!pip install scikit-learn==1.5.2\n"
   ]
  },
  {
   "cell_type": "code",
   "execution_count": 33,
   "metadata": {},
   "outputs": [
    {
     "name": "stdout",
     "output_type": "stream",
     "text": [
      "Requirement already satisfied: pip in /Library/Frameworks/Python.framework/Versions/3.11/lib/python3.11/site-packages (24.2)\n",
      "Found existing installation: scikit-learn 1.5.2\n",
      "Uninstalling scikit-learn-1.5.2:\n",
      "  Successfully uninstalled scikit-learn-1.5.2\n",
      "Collecting scikit-learn==1.5.2\n",
      "  Using cached scikit_learn-1.5.2-cp311-cp311-macosx_12_0_arm64.whl.metadata (13 kB)\n",
      "Requirement already satisfied: numpy>=1.19.5 in /Library/Frameworks/Python.framework/Versions/3.11/lib/python3.11/site-packages (from scikit-learn==1.5.2) (1.24.3)\n",
      "Requirement already satisfied: scipy>=1.6.0 in /Library/Frameworks/Python.framework/Versions/3.11/lib/python3.11/site-packages (from scikit-learn==1.5.2) (1.13.1)\n",
      "Requirement already satisfied: joblib>=1.2.0 in /Library/Frameworks/Python.framework/Versions/3.11/lib/python3.11/site-packages (from scikit-learn==1.5.2) (1.2.0)\n",
      "Requirement already satisfied: threadpoolctl>=3.1.0 in /Library/Frameworks/Python.framework/Versions/3.11/lib/python3.11/site-packages (from scikit-learn==1.5.2) (3.1.0)\n",
      "Using cached scikit_learn-1.5.2-cp311-cp311-macosx_12_0_arm64.whl (11.0 MB)\n",
      "Installing collected packages: scikit-learn\n",
      "Successfully installed scikit-learn-1.5.2\n",
      "1.2.2\n"
     ]
    }
   ],
   "source": [
    "# Upgrade pip\n",
    "!pip install --upgrade pip\n",
    "\n",
    "# Uninstall the existing version\n",
    "!pip uninstall scikit-learn -y\n",
    "\n",
    "# Install the desired version\n",
    "!pip install scikit-learn==1.5.2\n",
    "\n",
    "# Verify the installation\n",
    "import sklearn\n",
    "print(sklearn.__version__)\n"
   ]
  },
  {
   "cell_type": "code",
   "execution_count": 50,
   "metadata": {},
   "outputs": [
    {
     "name": "stdout",
     "output_type": "stream",
     "text": [
      "Requirement already satisfied: scikit-learn==1.5.2 in /Library/Frameworks/Python.framework/Versions/3.11/lib/python3.11/site-packages (1.5.2)\n",
      "Requirement already satisfied: numpy>=1.19.5 in /Library/Frameworks/Python.framework/Versions/3.11/lib/python3.11/site-packages (from scikit-learn==1.5.2) (1.24.3)\n",
      "Requirement already satisfied: scipy>=1.6.0 in /Library/Frameworks/Python.framework/Versions/3.11/lib/python3.11/site-packages (from scikit-learn==1.5.2) (1.13.1)\n",
      "Requirement already satisfied: joblib>=1.2.0 in /Library/Frameworks/Python.framework/Versions/3.11/lib/python3.11/site-packages (from scikit-learn==1.5.2) (1.2.0)\n",
      "Requirement already satisfied: threadpoolctl>=3.1.0 in /Library/Frameworks/Python.framework/Versions/3.11/lib/python3.11/site-packages (from scikit-learn==1.5.2) (3.1.0)\n"
     ]
    }
   ],
   "source": [
    "!pip install scikit-learn==1.5.2\n"
   ]
  },
  {
   "cell_type": "code",
   "execution_count": 51,
   "metadata": {},
   "outputs": [
    {
     "name": "stdout",
     "output_type": "stream",
     "text": [
      "1.2.2\n"
     ]
    }
   ],
   "source": [
    "import sklearn\n",
    "print(sklearn.__version__)\n"
   ]
  },
  {
   "cell_type": "markdown",
   "metadata": {},
   "source": [
    "Load the dataset "
   ]
  },
  {
   "cell_type": "code",
   "execution_count": 21,
   "metadata": {},
   "outputs": [],
   "source": [
    "# Load dataset\n",
    "train_data = pd.read_csv(\"train - train.csv\")\n",
    "test_data = pd.read_csv(\"test - test.csv\")\n",
    "\n",
    "# Separate features and target\n",
    "X = train_data.drop(\"price_range\", axis=1)\n",
    "y = train_data[\"price_range\"]\n",
    "\n",
    "# Split into train and validation sets\n",
    "X_train, X_val, y_train, y_val = train_test_split(X, y, test_size=0.2, random_state=42)"
   ]
  },
  {
   "cell_type": "markdown",
   "metadata": {},
   "source": [
    "Train the model"
   ]
  },
  {
   "cell_type": "code",
   "execution_count": 22,
   "metadata": {},
   "outputs": [],
   "source": [
    "from sklearn.impute import SimpleImputer\n"
   ]
  },
  {
   "cell_type": "code",
   "execution_count": 26,
   "metadata": {},
   "outputs": [
    {
     "name": "stdout",
     "output_type": "stream",
     "text": [
      "Requirement already satisfied: pip in /Library/Frameworks/Python.framework/Versions/3.11/lib/python3.11/site-packages (24.2)\n"
     ]
    }
   ],
   "source": [
    "\n",
    "!pip install --upgrade pip\n"
   ]
  },
  {
   "cell_type": "code",
   "execution_count": 16,
   "metadata": {},
   "outputs": [],
   "source": [
    "# Initialize the imputer to replace NaNs with the mean of each column\n",
    "imputer = SimpleImputer(strategy='mean')\n",
    "imputer.fit(X_train)\n",
    "# Fit on training data and transform both train and validation sets\n",
    "X_train = imputer.fit_transform(X_train)\n",
    "X_val = imputer.transform(X_val)\n",
    "\n"
   ]
  },
  {
   "cell_type": "code",
   "execution_count": null,
   "metadata": {},
   "outputs": [],
   "source": [
    "with open(\"imputer.pkl\", \"wb\") as f:\n",
    "    pickle.dump(imputer, f)"
   ]
  },
  {
   "cell_type": "code",
   "execution_count": 17,
   "metadata": {},
   "outputs": [
    {
     "name": "stdout",
     "output_type": "stream",
     "text": [
      "Validation Accuracy: 0.9\n",
      "Confusion Matrix:\n",
      " [[102   3   0   0]\n",
      " [  7  80   4   0]\n",
      " [  0   5  79   8]\n",
      " [  0   0  13  99]]\n"
     ]
    }
   ],
   "source": [
    "# Initialize the Random Forest model\n",
    "rf_model = RandomForestClassifier(n_estimators=100, max_depth=10, random_state=42)\n",
    "\n",
    "# Train the model\n",
    "rf_model.fit(X_train, y_train)\n",
    "\n",
    "# Evaluate on validation set\n",
    "y_pred = rf_model.predict(X_val)\n",
    "accuracy = accuracy_score(y_val, y_pred)\n",
    "print(\"Validation Accuracy:\", accuracy)\n",
    "\n",
    "# Confusion matrix\n",
    "cm = confusion_matrix(y_val, y_pred)\n",
    "print(\"Confusion Matrix:\\n\", cm)\n"
   ]
  },
  {
   "cell_type": "markdown",
   "metadata": {},
   "source": [
    "Test the Data in the Test dataset"
   ]
  },
  {
   "cell_type": "code",
   "execution_count": 15,
   "metadata": {},
   "outputs": [
    {
     "name": "stdout",
     "output_type": "stream",
     "text": [
      "Test Data Columns: Index(['id', 'battery_power', 'blue', 'clock_speed', 'dual_sim', 'fc',\n",
      "       'four_g', 'int_memory', 'm_dep', 'mobile_wt', 'n_cores', 'pc',\n",
      "       'px_height', 'px_width', 'ram', 'sc_h', 'sc_w', 'talk_time', 'three_g',\n",
      "       'touch_screen', 'wifi'],\n",
      "      dtype='object')\n",
      "Predicted Price Ranges: [3 3 2 3 1 3 3 1 3 0 3 3 0 0 2 0 2 1 3 2 1 3 1 1 3 0 2 0 2 0 2 0 3 0 1 1 3\n",
      " 1 2 1 1 2 0 0 0 1 0 3 1 2 1 0 3 0 3 1 3 1 1 3 3 2 0 1 1 1 1 3 1 1 1 2 2 3\n",
      " 3 0 2 0 2 3 0 3 3 0 3 0 3 1 3 0 1 2 2 0 2 2 0 2 1 2 1 0 0 3 1 2 1 1 2 3 3\n",
      " 3 1 3 3 3 3 1 3 0 0 2 2 1 1 0 3 2 2 1 0 2 1 1 3 1 2 0 3 2 1 3 2 2 2 3 3 2\n",
      " 2 3 2 3 0 0 3 2 3 3 3 3 2 2 3 3 3 3 1 0 3 0 0 0 1 0 0 1 0 0 1 2 0 0 0 1 2\n",
      " 2 2 1 0 0 0 1 0 3 1 0 2 2 2 3 1 2 3 3 3 1 2 1 0 0 1 2 1 2 3 3 0 2 0 3 2 3\n",
      " 3 0 0 1 0 3 0 1 0 2 2 1 3 0 2 0 3 1 2 0 0 2 1 3 3 3 1 1 3 0 0 2 3 3 1 3 1\n",
      " 0 3 2 1 2 3 3 3 1 0 1 2 3 1 1 3 2 0 3 0 1 2 0 0 3 2 3 3 2 1 3 3 2 3 2 2 1\n",
      " 1 0 2 3 1 0 0 3 0 3 0 1 2 0 2 2 1 3 1 2 1 2 0 0 0 1 3 1 0 0 0 3 1 0 3 3 1\n",
      " 2 3 2 3 1 3 3 2 2 2 3 3 0 3 0 3 1 3 1 2 3 0 1 1 3 1 3 2 3 0 0 0 0 2 0 0 1\n",
      " 1 1 2 3 2 0 1 0 0 3 2 0 3 1 2 2 1 2 3 1 1 2 2 1 2 0 1 1 0 3 2 0 0 1 0 0 1\n",
      " 0 0 0 0 2 2 3 2 3 0 2 0 3 0 1 0 1 1 0 3 2 3 3 1 3 1 3 1 2 2 1 2 2 1 1 0 0\n",
      " 0 1 2 1 0 3 3 1 2 3 0 0 3 1 1 1 2 2 3 0 3 0 2 3 3 3 0 2 0 2 2 0 1 1 0 0 1\n",
      " 1 2 3 3 3 2 3 1 1 2 3 3 3 2 0 2 2 2 2 1 0 1 2 0 1 0 3 1 1 2 2 2 0 3 0 2 2\n",
      " 0 3 0 2 3 0 1 1 3 3 1 1 2 3 2 0 2 1 3 0 3 3 1 2 2 2 3 0 1 2 3 1 3 2 3 1 1\n",
      " 1 0 3 1 0 3 2 3 2 0 3 3 3 2 3 3 1 2 0 2 3 3 1 0 1 1 2 2 2 0 0 2 2 3 2 0 2\n",
      " 1 3 3 0 1 3 1 2 1 1 0 0 2 1 0 1 1 2 2 0 2 2 1 0 3 0 0 3 2 0 0 0 0 0 3 0 3\n",
      " 0 3 2 1 3 2 0 1 1 3 2 3 1 0 3 0 2 0 2 0 0 2 1 1 2 1 3 1 3 2 2 1 3 2 0 1 2\n",
      " 0 3 3 0 2 1 1 2 0 3 2 0 3 2 3 0 0 3 0 1 2 3 2 2 2 2 1 2 3 0 1 0 1 2 1 0 0\n",
      " 1 0 0 3 0 1 1 0 1 1 0 3 0 3 2 3 0 0 1 2 2 1 0 1 1 0 1 1 0 0 3 3 0 3 1 2 3\n",
      " 0 1 0 2 2 0 3 2 0 3 0 1 0 3 3 3 2 3 0 3 2 0 1 0 3 3 2 0 2 1 3 1 0 3 2 0 3\n",
      " 1 1 1 1 1 3 1 1 1 2 0 0 1 2 0 2 0 1 0 0 2 3 3 3 0 1 2 1 1 0 0 2 1 0 2 0 2\n",
      " 2 2 1 2 0 1 1 3 0 0 3 1 3 0 0 2 2 2 1 2 2 1 0 0 3 3 0 3 0 0 0 2 2 1 2 0 3\n",
      " 2 1 2 3 3 0 1 1 2 1 2 2 0 1 3 1 1 3 1 2 3 1 1 1 1 3 3 0 3 3 0 2 3 2 2 2 3\n",
      " 2 0 1 2 0 2 1 1 2 2 2 1 2 0 0 1 3 1 0 1 2 3 1 0 0 3 2 2 3 0 3 3 2 1 3 0 1\n",
      " 3 1 2 1 2 3 2 0 3 0 2 3 0 2 2 2 3 1 1 2 3 1 0 1 1 2 1 3 0 2 2 0 2 3 2 3 0\n",
      " 2 1 1 2 2 3 3 0 2 1 2 1 3 0 1 3 0 1 0 0 3 2 2 0 0 0 0 3 2 3 3 0 0 2 1 0 2\n",
      " 2]\n"
     ]
    }
   ],
   "source": [
    "# Inspect the test dataset\n",
    "print(\"Test Data Columns:\", test_data.columns)\n",
    "\n",
    "# Drop columns that are not in the training dataset (if applicable)\n",
    "# Ensure that you drop the target variable and any other unnecessary columns\n",
    "# Assuming the training features were the same as the following:\n",
    "training_features = ['battery_power', 'blue', 'clock_speed', 'dual_sim', 'fc', 'four_g', \n",
    "                      'int_memory', 'm_dep', 'mobile_wt', 'n_cores', 'pc', 'px_height', \n",
    "                      'px_width', 'ram', 'sc_h', 'sc_w', 'talk_time', 'three_g', \n",
    "                     'touch_screen', 'wifi']\n",
    "\n",
    "# Drop unnecessary columns, if they exist\n",
    "X_test = test_data[training_features]  # Use the correct feature list from your training set\n",
    "\n",
    "# Handle any missing values in the test data\n",
    "# Make sure to have defined `imputer` from your training phase\n",
    "X_test = imputer.transform(X_test)  # Use the same imputer fitted on the training data\n",
    "\n",
    "# Now, predict price range categories for the test dataset\n",
    "y_test_pred = rf_model.predict(X_test)\n",
    "\n",
    "# Display the predictions\n",
    "print(\"Predicted Price Ranges:\", y_test_pred)\n"
   ]
  },
  {
   "cell_type": "markdown",
   "metadata": {},
   "source": [
    "Save the Model"
   ]
  },
  {
   "cell_type": "code",
   "execution_count": 18,
   "metadata": {},
   "outputs": [],
   "source": [
    "with open(\"rf_model.pkl\", \"wb\") as f:\n",
    "    pickle.dump(rf_model, f)\n"
   ]
  }
 ],
 "metadata": {
  "kernelspec": {
   "display_name": "Python 3",
   "language": "python",
   "name": "python3"
  },
  "language_info": {
   "codemirror_mode": {
    "name": "ipython",
    "version": 3
   },
   "file_extension": ".py",
   "mimetype": "text/x-python",
   "name": "python",
   "nbconvert_exporter": "python",
   "pygments_lexer": "ipython3",
   "version": "3.11.2"
  }
 },
 "nbformat": 4,
 "nbformat_minor": 2
}
